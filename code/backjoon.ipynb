{
 "cells": [
  {
   "cell_type": "code",
   "execution_count": 27,
   "metadata": {},
   "outputs": [
    {
     "name": "stdout",
     "output_type": "stream",
     "text": [
      "5\n",
      "55 185\n",
      "58 183\n",
      "88 186\n",
      "60 175\n",
      "46 155\n"
     ]
    }
   ],
   "source": [
    "N = int(input())\n",
    "humans = []\n",
    "\n",
    "for i in range(N):\n",
    "    weight, tall = map(int,input().split())\n",
    "    humans.append([weight, tall, 0])"
   ]
  },
  {
   "cell_type": "code",
   "execution_count": 34,
   "metadata": {},
   "outputs": [],
   "source": [
    "N = 5\n",
    "humans = [[55, 185, 0], [58, 183, 0], [88, 186, -1], [60, 175, 0], [46, 155, 1]]"
   ]
  },
  {
   "cell_type": "code",
   "execution_count": 35,
   "metadata": {
    "scrolled": true
   },
   "outputs": [
    {
     "name": "stdout",
     "output_type": "stream",
     "text": [
      "\thuman2 weight :58, tall :183\n",
      "\t\tcompare_human1 compare_weight :55, compare_tall :185\n",
      "\t\t\telse :\n",
      "\tupdate rank :  [0]\n",
      "\thuman3 weight :88, tall :186\n",
      "\t\tcompare_human1 compare_weight :55, compare_tall :185\n",
      "\t\t\t(weight > compare_weight) & (tall > compare_tall) True\n",
      "\t\tcompare_human2 compare_weight :58, compare_tall :183\n",
      "\t\t\t(weight > compare_weight) & (tall > compare_tall) True\n",
      "\tupdate rank :  [0, 0]\n",
      "\thuman4 weight :60, tall :175\n",
      "\t\tcompare_human1 compare_weight :55, compare_tall :185\n",
      "\t\t\telse :\n",
      "\t\tcompare_human2 compare_weight :58, compare_tall :183\n",
      "\t\t\telse :\n",
      "\t\tcompare_human3 compare_weight :88, compare_tall :186\n",
      "\t\t\t(weight < compare_weight) & (tall < compare_tall) True\n",
      "\tupdate rank :  [0, 0, -1]\n",
      "\thuman5 weight :46, tall :155\n",
      "\t\tcompare_human1 compare_weight :55, compare_tall :185\n",
      "\t\t\t(weight < compare_weight) & (tall < compare_tall) True\n",
      "\t\tcompare_human2 compare_weight :58, compare_tall :183\n",
      "\t\t\t(weight < compare_weight) & (tall < compare_tall) True\n",
      "\t\tcompare_human3 compare_weight :88, compare_tall :186\n",
      "\t\t\t(weight < compare_weight) & (tall < compare_tall) True\n",
      "\t\tcompare_human4 compare_weight :60, compare_tall :175\n",
      "\t\t\t(weight < compare_weight) & (tall < compare_tall) True\n",
      "\tupdate rank :  [0, 0, -1, 0]\n"
     ]
    }
   ],
   "source": [
    "rank = [0]\n",
    "\n",
    "\n",
    "for i in range(1,N):\n",
    "    weight = humans[i][0]\n",
    "    tall = humans[i][1]\n",
    "    print(f'\\thuman{i+1} weight :{weight}, tall :{tall}')    \n",
    "    for j in range(i):\n",
    "        compare_weight = humans[j][0]\n",
    "        compare_tall = humans[j][1]\n",
    "        print(f'\\t\\tcompare_human{j+1} compare_weight :{compare_weight}, compare_tall :{compare_tall}')\n",
    "        if (weight > compare_weight) & (tall > compare_tall):\n",
    "            print('\\t\\t\\t(weight > compare_weight) & (tall > compare_tall)',(weight > compare_weight) & (tall > compare_tall))\n",
    "            humans[i][2] = humans[j][2] - 1\n",
    "        elif (weight < compare_weight) & (tall < compare_tall):\n",
    "            print('\\t\\t\\t(weight < compare_weight) & (tall < compare_tall)',(weight < compare_weight) & (tall < compare_tall))\n",
    "            humans[i][2] = humans[j][2] + 1\n",
    "        else:\n",
    "            print('\\t\\t\\telse :')\n",
    "            humans[i][2] = humans[j][2]\n",
    "    print('\\tupdate rank : ',rank)\n",
    "    rank.append(humans[i][2])"
   ]
  },
  {
   "cell_type": "code",
   "execution_count": 36,
   "metadata": {},
   "outputs": [
    {
     "data": {
      "text/plain": [
       "[[55, 185, 0], [58, 183, 0], [88, 186, -1], [60, 175, 0], [46, 155, 1]]"
      ]
     },
     "execution_count": 36,
     "metadata": {},
     "output_type": "execute_result"
    }
   ],
   "source": [
    "humans"
   ]
  },
  {
   "cell_type": "code",
   "execution_count": 37,
   "metadata": {},
   "outputs": [
    {
     "data": {
      "text/plain": [
       "[0, 0, -1, 0, 1]"
      ]
     },
     "execution_count": 37,
     "metadata": {},
     "output_type": "execute_result"
    }
   ],
   "source": [
    "rank"
   ]
  },
  {
   "cell_type": "code",
   "execution_count": 38,
   "metadata": {},
   "outputs": [
    {
     "data": {
      "text/plain": [
       "2"
      ]
     },
     "execution_count": 38,
     "metadata": {},
     "output_type": "execute_result"
    }
   ],
   "source": [
    "scale = 1 - min(rank)\n",
    "scale"
   ]
  },
  {
   "cell_type": "code",
   "execution_count": 39,
   "metadata": {
    "scrolled": true
   },
   "outputs": [
    {
     "name": "stdout",
     "output_type": "stream",
     "text": [
      "2\n",
      "2\n",
      "1\n",
      "2\n",
      "3\n"
     ]
    }
   ],
   "source": [
    "for i in range(N):\n",
    "    humans[i][2] += 2\n",
    "    print(humans[i][2])"
   ]
  },
  {
   "cell_type": "code",
   "execution_count": 42,
   "metadata": {},
   "outputs": [
    {
     "data": {
      "text/plain": [
       "{1: 3, 2: 0, 3: 0, 4: 0, 5: 0}"
      ]
     },
     "execution_count": 42,
     "metadata": {},
     "output_type": "execute_result"
    }
   ],
   "source": [
    "duplicate_number"
   ]
  },
  {
   "cell_type": "code",
   "execution_count": 44,
   "metadata": {},
   "outputs": [
    {
     "name": "stdout",
     "output_type": "stream",
     "text": [
      "0\n",
      "1\n",
      "2\n",
      "3\n",
      "4\n"
     ]
    }
   ],
   "source": [
    "duplicate_number = {}\n",
    "\n",
    "for i in range(1,N+1):\n",
    "    duplicate_number[i] = 0\n",
    "\n",
    "for i in range(N):    \n",
    "    print(i)\n",
    "    if rank[i] in rank:\n",
    "        duplicate_number[humans[i][2]] += 1\n",
    "    \n",
    "    \n",
    "    if duplicate_number[i+1] > 1:\n",
    "        # print('\\tduplicate_number[i] > 1 :',duplicate_number[i] > 1)\n",
    "        duep_num = duplicate_number[i]\n",
    "        # print('\\tduep_num :',duep_num)\n",
    "        \n",
    "        for j in range(N,i,-1):\n",
    "            \n",
    "            # print('\\t\\tN :',N)\n",
    "            # print('\\t\\tj :',j)\n",
    "            # print('\\t\\tj+duep_num-1 :',j+duep_num-1)\n",
    "            # print('\\t\\tN < j+duep_num-1 :',N < j+duep_num-1)\n",
    "            \n",
    "            if N < j+duep_num-1:               \n",
    "                continue\n",
    "            \n",
    "            # print(f'\\t\\t    duplicate_number[{j}] :{duplicate_number[j]}')\n",
    "            temp_dump = duplicate_number[j]\n",
    "            duplicate_number[j+duep_num-1] = temp_dump\n",
    "            duplicate_number[j] = 0\n",
    "            \n",
    "            for k in range(N):\n",
    "                if humans[k][2] == j:\n",
    "                    humans[k][2] = j+duep_num-1\n",
    "               #  print(f'\\t\\t\\t humans[{k}][2]',humans[k][2])\n",
    "            # print('\\t\\t duplicate_number : ',duplicate_number)\n",
    "\n",
    "# *********************** 결과 출력 ********************\n"
   ]
  },
  {
   "cell_type": "code",
   "execution_count": 45,
   "metadata": {
    "scrolled": true
   },
   "outputs": [
    {
     "name": "stdout",
     "output_type": "stream",
     "text": [
      "1 1 1 1 1 "
     ]
    }
   ],
   "source": [
    "for i in range(N):\n",
    "    print(humans[i][2],end=' ')"
   ]
  },
  {
   "cell_type": "code",
   "execution_count": 75,
   "metadata": {},
   "outputs": [
    {
     "data": {
      "text/plain": [
       "[0, 0, 0, 0, 0]"
      ]
     },
     "execution_count": 75,
     "metadata": {},
     "output_type": "execute_result"
    }
   ],
   "source": [
    "rank"
   ]
  },
  {
   "cell_type": "code",
   "execution_count": 86,
   "metadata": {},
   "outputs": [
    {
     "name": "stdout",
     "output_type": "stream",
     "text": [
      "5 4 3 1 1 "
     ]
    }
   ],
   "source": [
    "# *********************** 데이터 입력 받기 ***********************\n",
    "import sys\n",
    "\n",
    "# N = 5\n",
    "# humans = [[1, 1, 1], [1, 2, 1], [2, 2, 1], [2, 3, 1], [3, 3, 1]]\n",
    "\n",
    "N = int(sys.stdin.readline())\n",
    "humans = []\n",
    "\n",
    "for i in range(N):\n",
    "    weight, tall = map(int,sys.stdin.readline().split())\n",
    "    humans.append([weight, tall, 0])\n",
    "    \n",
    "# *********************** humans 등수 초기화 *******************\n",
    "rank = []\n",
    "for i in range(0,N):\n",
    "    weight = humans[i][0]\n",
    "    tall = humans[i][1]\n",
    "#     print(f'\\thuman{i+1} weight :{weight}, tall :{tall}')    \n",
    "    for j in range(N):\n",
    "        if i == j:\n",
    "            continue\n",
    "        compare_weight = humans[j][0]\n",
    "        compare_tall = humans[j][1]\n",
    "#         print(f'\\t\\tcompare_human{j+1} compare_weight :{compare_weight}, compare_tall :{compare_tall}')\n",
    "        if (weight < compare_weight) & (tall < compare_tall):\n",
    "#             print('\\t\\t\\t(weight < compare_weight) & (tall < compare_tall)',(weight < compare_weight) & (tall < compare_tall))\n",
    "            humans[i][2] += 1\n",
    "    rank.append(humans[i][2])\n",
    "    \n",
    " \n",
    "\n",
    " #*********************** 중복되는 등수 처리 ***********************\n",
    "\n",
    "duplicate_number = {}\n",
    "\n",
    "for i in range(0,N+1):\n",
    "    duplicate_number[i] = 0\n",
    "\n",
    "for i in range(N):    \n",
    "    if rank[i] in rank:\n",
    "        duplicate_number[humans[i][2]] += 1\n",
    "        \n",
    "for i in range(N,0,-1):\n",
    "    # print(i)\n",
    "    \n",
    "    if duplicate_number[i] > 1:\n",
    "#         print('\\tduplicate_number[i] > 1 :',duplicate_number[i] > 1)\n",
    "        duep_num = duplicate_number[i]\n",
    "#         print('\\tduep_num :',duep_num)\n",
    "        \n",
    "        for j in range(N,i,-1):\n",
    "            \n",
    "#             print('\\t\\tN :',N)\n",
    "#             print('\\t\\tj :',j)\n",
    "#             print('\\t\\tj+duep_num-1 :',j+duep_num-1)\n",
    "#             print('\\t\\tN < j+duep_num-1 :',N < j+duep_num-1)\n",
    "            \n",
    "            if N < j+duep_num-1:               \n",
    "                continue\n",
    "            \n",
    "#             print(f'\\t\\t    duplicate_number[{j}] :{duplicate_number[j]}')\n",
    "            temp_dump = duplicate_number[j]\n",
    "            duplicate_number[j+duep_num-1] = temp_dump\n",
    "            duplicate_number[j] = 0\n",
    "            \n",
    "            for k in range(N):\n",
    "                if humans[k][2] == j:\n",
    "                    humans[k][2] = j+duep_num-1\n",
    "#                 print(f'\\t\\t\\t humans[{k}][2]',humans[k][2])\n",
    "#             print('\\t\\t duplicate_number : ',duplicate_number)\n",
    "\n",
    "# *********************** 결과 출력 ********************\n",
    "for i in range(N):\n",
    "    print(humans[i][2],end=' ')\n",
    "            "
   ]
  },
  {
   "cell_type": "code",
   "execution_count": 78,
   "metadata": {},
   "outputs": [
    {
     "data": {
      "text/plain": [
       "{0: 0, 1: 0, 2: 3, 3: 0, 4: 1, 5: 1}"
      ]
     },
     "execution_count": 78,
     "metadata": {},
     "output_type": "execute_result"
    }
   ],
   "source": [
    "duplicate_number"
   ]
  },
  {
   "cell_type": "code",
   "execution_count": null,
   "metadata": {},
   "outputs": [],
   "source": []
  },
  {
   "cell_type": "code",
   "execution_count": null,
   "metadata": {},
   "outputs": [],
   "source": []
  },
  {
   "cell_type": "code",
   "execution_count": null,
   "metadata": {},
   "outputs": [],
   "source": []
  },
  {
   "cell_type": "code",
   "execution_count": null,
   "metadata": {},
   "outputs": [],
   "source": []
  },
  {
   "cell_type": "code",
   "execution_count": null,
   "metadata": {},
   "outputs": [],
   "source": []
  }
 ],
 "metadata": {
  "kernelspec": {
   "display_name": "Python 3",
   "language": "python",
   "name": "python3"
  },
  "language_info": {
   "codemirror_mode": {
    "name": "ipython",
    "version": 3
   },
   "file_extension": ".py",
   "mimetype": "text/x-python",
   "name": "python",
   "nbconvert_exporter": "python",
   "pygments_lexer": "ipython3",
   "version": "3.8.5"
  },
  "toc": {
   "base_numbering": 1,
   "nav_menu": {},
   "number_sections": true,
   "sideBar": true,
   "skip_h1_title": false,
   "title_cell": "Table of Contents",
   "title_sidebar": "Contents",
   "toc_cell": false,
   "toc_position": {},
   "toc_section_display": true,
   "toc_window_display": false
  }
 },
 "nbformat": 4,
 "nbformat_minor": 4
}
